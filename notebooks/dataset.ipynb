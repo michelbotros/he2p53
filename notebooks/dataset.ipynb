{
 "cells": [
  {
   "cell_type": "code",
   "execution_count": null,
   "id": "c9529fac-42ab-4b47-9f6f-7dcf0aa3d50c",
   "metadata": {},
   "outputs": [],
   "source": [
    "import sys\n",
    "import os\n",
    "sys.path.insert(1, os.path.join(sys.path[0], '..'))\n",
    "from dataset import VirtualStainDataset"
   ]
  },
  {
   "cell_type": "code",
   "execution_count": null,
   "id": "de8140fb-089d-4ad0-a669-e74657cf34e9",
   "metadata": {},
   "outputs": [],
   "source": [
    "os.getcwd()"
   ]
  },
  {
   "cell_type": "code",
   "execution_count": null,
   "id": "e8eb071e-16c9-4e34-b738-241dd2b01a5d",
   "metadata": {},
   "outputs": [],
   "source": [
    "# load dataset\n",
    "dataset_dir = '/data/archief/AMC-data/Barrett/temp/patch_dataset_s1_512'\n",
    "dataset = VirtualStainDataset(dataset_dir)\n",
    "print('Dataset contains: {} pairs.'.format(dataset.__len__()))"
   ]
  },
  {
   "cell_type": "code",
   "execution_count": null,
   "id": "8906e593-eb2e-4006-ba6c-59800cd8f43c",
   "metadata": {},
   "outputs": [],
   "source": []
  }
 ],
 "metadata": {
  "kernelspec": {
   "display_name": "Python 3 (ipykernel)",
   "language": "python",
   "name": "python3"
  },
  "language_info": {
   "codemirror_mode": {
    "name": "ipython",
    "version": 3
   },
   "file_extension": ".py",
   "mimetype": "text/x-python",
   "name": "python",
   "nbconvert_exporter": "python",
   "pygments_lexer": "ipython3",
   "version": "3.9.7"
  }
 },
 "nbformat": 4,
 "nbformat_minor": 5
}
